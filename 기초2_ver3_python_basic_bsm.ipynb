{
  "nbformat": 4,
  "nbformat_minor": 0,
  "metadata": {
    "colab": {
      "provenance": []
    },
    "kernelspec": {
      "name": "python3",
      "display_name": "Python 3"
    },
    "language_info": {
      "name": "python"
    }
  },
  "cells": [
    {
      "cell_type": "code",
      "execution_count": 7,
      "metadata": {
        "colab": {
          "base_uri": "https://localhost:8080/"
        },
        "id": "9RNThIiSmgC5",
        "outputId": "5ef7c33f-fe44-4838-904b-adccdba4c412"
      },
      "outputs": [
        {
          "output_type": "stream",
          "name": "stdout",
          "text": [
            "{'Newton'}\n",
            "{'Galileo', 'Euler'}\n",
            "{'Kepler'}\n"
          ]
        }
      ],
      "source": [
        "#해결 문제1\n",
        "#set으로 출입 명부 만들기\n",
        "vip_names = ['Newton','Kepler','Euler','Galileo']\n",
        "room1_list = ['Newton']\n",
        "room2_list = ['Euler','Galileo']\n",
        "room1_list=set(room1_list)\n",
        "room2_list=set(room2_list)\n",
        "vip_names = set(vip_names)\n",
        "print(room1_list)\n",
        "print(room2_list)\n",
        "print(vip_names - (room1_list|room2_list))"
      ]
    },
    {
      "cell_type": "code",
      "source": [
        "#집합 연산\n",
        "a = (1,2,2,3,10,20)#튜플\n",
        "b = [2,10,20,30,30]#리스트\n",
        "\n",
        "a = set(a)\n",
        "b = set(b)\n",
        "\n",
        "print(f\"{a} , {b}\")\n",
        "print(f\"{a&b}\")\n",
        "print(f\"{a | b}\")\n",
        "print(f\"{a - b}\")\n",
        "print(f\"{b -a}\")\n"
      ],
      "metadata": {
        "colab": {
          "base_uri": "https://localhost:8080/"
        },
        "id": "Z9m4zfuRpfuC",
        "outputId": "230016b6-e037-40b1-89b8-ffdd38818946"
      },
      "execution_count": 9,
      "outputs": [
        {
          "output_type": "stream",
          "name": "stdout",
          "text": [
            "{1, 2, 3, 10, 20} , {2, 10, 20, 30}\n",
            "{2, 10, 20}\n",
            "{1, 2, 3, 10, 20, 30}\n",
            "{1, 3}\n",
            "{30}\n"
          ]
        }
      ]
    },
    {
      "cell_type": "code",
      "source": [
        "#컬렉션 요소 접근\n",
        "lst = [10,50,30]\n",
        "tp = ('a','b','c')\n",
        "for item in lst:\n",
        "  print(item,end='')\n",
        "for item in tp:\n",
        "  print(item, end='')"
      ],
      "metadata": {
        "colab": {
          "base_uri": "https://localhost:8080/"
        },
        "id": "fPXZdSoJqw-x",
        "outputId": "c23d839d-3911-4442-c273-37b825cde582"
      },
      "execution_count": 10,
      "outputs": [
        {
          "output_type": "stream",
          "name": "stdout",
          "text": [
            "105030abc"
          ]
        }
      ]
    },
    {
      "cell_type": "markdown",
      "source": [],
      "metadata": {
        "id": "5hWa4O7lrlDz"
      }
    },
    {
      "cell_type": "code",
      "source": [
        "# 딕셔너리 만들기 : dict() 함수와 zip() 함수 이용\n",
        "dy = dict(zip(tp,lst))\n",
        "print(dy)\n",
        "for item in dy:\n",
        "  print(f'{item}:{dy[item]}')"
      ],
      "metadata": {
        "colab": {
          "base_uri": "https://localhost:8080/"
        },
        "id": "zB7tAwUPrIY9",
        "outputId": "f5b2e063-7f86-43f4-a854-c335268c0c10"
      },
      "execution_count": 12,
      "outputs": [
        {
          "output_type": "stream",
          "name": "stdout",
          "text": [
            "{'a': 10, 'b': 50, 'c': 30}\n",
            "a:10\n",
            "b:50\n",
            "c:30\n"
          ]
        }
      ]
    },
    {
      "cell_type": "markdown",
      "source": [
        "#내장 함수\n",
        "\n",
        "\n",
        "*   len(컬렉션명) : 컬렉션 요소 개수\n",
        "*   max(컬렉션명) : 가장 큰 요소값 반환\n",
        "    + 딕셔너리인 경우는 키 값 중 가장 큰 요소로 반환\n",
        "*   min(컬렉션명) : 가장 작은 요소값 반환\n",
        "    + 딕셔너리인 경우는 키 값 중 가장 작은 요소 반환\n",
        "*   sum(컬렉션명) : 수치 요소로 이루어진 컬렉션 요소의 합\n",
        "    + 딕셔너리인 경우는 키 값의 합\n",
        "*   sorted(컬렉션명) : 컬렉션 요소 정렬\n",
        "    + 딕셔너리인 경우는 키 값을 정렬하여 키 리스트 반환\n",
        "\n"
      ],
      "metadata": {
        "id": "2iirX4assOco"
      }
    },
    {
      "cell_type": "code",
      "source": [
        "# 내장함수\n",
        "lst = [10,50,30]\n",
        "print(len(lst))\n",
        "print(max(lst))\n",
        "\n",
        "print(min(lst))\n",
        "print(sum(lst))\n",
        "print(sorted(lst))\n",
        "lst.sort()# 안이 바뀜"
      ],
      "metadata": {
        "colab": {
          "base_uri": "https://localhost:8080/"
        },
        "id": "esFRAFIduEnq",
        "outputId": "33c4c6b7-6d8f-47eb-a03b-c1eab4a66478"
      },
      "execution_count": 13,
      "outputs": [
        {
          "output_type": "stream",
          "name": "stdout",
          "text": [
            "3\n",
            "50\n",
            "10\n",
            "90\n",
            "[10, 30, 50]\n"
          ]
        }
      ]
    },
    {
      "cell_type": "code",
      "source": [
        "temp =[10.8, 8.5, 8.7, 7.9, 5.1,\n",
        "       8.1,8.2,10.4,11,9.9,\n",
        "       7.8,9.5,11.6,8.2,7.7,\n",
        "       6.6,11.1,12.2,10.4,\n",
        "       13.7,14.1,12.6,11.5,13,\n",
        "       14.5,13.7,9.4,10.4,11.6,12.9\n",
        "       ]\n",
        "print(max(temp))\n",
        "print(min(temp))\n",
        "print(f'{sum(temp)/len(temp):0.2f}')"
      ],
      "metadata": {
        "colab": {
          "base_uri": "https://localhost:8080/"
        },
        "id": "zkn6Vz5Mu1O0",
        "outputId": "de6dad4d-fcec-4f98-f7a3-c72bb5140828"
      },
      "execution_count": 14,
      "outputs": [
        {
          "output_type": "stream",
          "name": "stdout",
          "text": [
            "14.5\n",
            "5.1\n",
            "10.37\n"
          ]
        }
      ]
    },
    {
      "cell_type": "code",
      "source": [
        "y = [2010, 2011, 2012, 2013, 2014, 2015, 2016, 2017, 2018, 2019]\n",
        "yavg = [14.9,14.6,14.5,15.3,15.1,15.4,15.7,15.2,15.1,15.7]\n",
        "ymax = [34.1, 33,34.5,35,32.9,33.5,37.3,36.2,36.4,35]\n",
        "ymin = [19,18.8,18.6,19.5,19.2,19.5,19.8,19.6,19.2,19.8]\n",
        "for i in y:\n",
        "  if i%2==1:\n",
        "    print(i, end=' ')\n",
        "print()\n",
        "ytemp=dict(zip(y,yavg))\n",
        "print(ytemp)\n",
        "\n",
        "mintemp=min(ytemp.values())\n",
        "ryear=[]\n",
        "for year,temp in ytemp.items():\n",
        "  if temp==mintemp:\n",
        "    ryear.append(year)\n",
        "print(f'{ryear}:{mintemp}')\n",
        "\n",
        "maxv=max(ymax)\n",
        "ylist=[]\n",
        "for i in range(len(ymax)):\n",
        "  if ymax[i]==maxv:\n",
        "    ylist.append(y[i])\n",
        "print(f'{ylist}:{maxv}')\n",
        "ymlist=[]\n",
        "minv = min(ymin)\n",
        "for i in range(len(ymin)):\n",
        "  if ymin[i] == minv:\n",
        "    ymlist.append(y[i])\n",
        "print(f'{ymlist}:{minv}')"
      ],
      "metadata": {
        "colab": {
          "base_uri": "https://localhost:8080/"
        },
        "id": "3hkxwygT0Bvq",
        "outputId": "23b597c0-3d4f-44ac-db06-306052134b3e"
      },
      "execution_count": 24,
      "outputs": [
        {
          "output_type": "stream",
          "name": "stdout",
          "text": [
            "2011 2013 2015 2017 2019 \n",
            "{2010: 14.9, 2011: 14.6, 2012: 14.5, 2013: 15.3, 2014: 15.1, 2015: 15.4, 2016: 15.7, 2017: 15.2, 2018: 15.1, 2019: 15.7}\n",
            "[2012]:14.5\n",
            "[2016]:37.3\n",
            "[2012]:18.6\n"
          ]
        }
      ]
    }
  ]
}