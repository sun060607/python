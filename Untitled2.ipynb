{
  "nbformat": 4,
  "nbformat_minor": 0,
  "metadata": {
    "colab": {
      "provenance": []
    },
    "kernelspec": {
      "name": "python3",
      "display_name": "Python 3"
    },
    "language_info": {
      "name": "python"
    }
  },
  "cells": [
    {
      "cell_type": "code",
      "execution_count": null,
      "metadata": {
        "id": "hEn14h9UMHj8"
      },
      "outputs": [],
      "source": [
        "!sudo apt-get install -y fonts-nanum\n",
        "!sudo fc-cache -fv\n",
        "!rm ~/.cache/matplotlib -rf"
      ]
    },
    {
      "cell_type": "code",
      "source": [
        "from google.colab import drive\n",
        "drive.mount('/content/drive')"
      ],
      "metadata": {
        "colab": {
          "base_uri": "https://localhost:8080/"
        },
        "id": "UtHs9FcxMbi_",
        "outputId": "bbfa4cf3-53e0-4b88-ced2-92d5fcfb6970"
      },
      "execution_count": 1,
      "outputs": [
        {
          "output_type": "stream",
          "name": "stdout",
          "text": [
            "Mounted at /content/drive\n"
          ]
        }
      ]
    },
    {
      "cell_type": "code",
      "source": [
        "filename = \"/content/drive/MyDrive/subwayfee.csv\"\n",
        "import csv\n",
        "f = open(filename, 'r',encoding='UTF8')\n",
        "data = csv.reader(f,delimiter=',')\n",
        "for row in data:\n",
        "  print(row)\n",
        "f.close()"
      ],
      "metadata": {
        "id": "15uSYu8VMocb"
      },
      "execution_count": null,
      "outputs": []
    },
    {
      "cell_type": "code",
      "source": [
        "filename = \"/content/drive/MyDrive/subwayfee.csv\"\n",
        "import csv\n",
        "f = open(filename, 'r',encoding='UTF8')\n",
        "data = csv.reader(f,delimiter=',')\n",
        "next(data) \n",
        "for row in data:\n",
        "  for i in range(4,8):\n",
        "    row[i]=int(row[i].replace(',',''))\n",
        "  print(row)\n",
        "f.close()"
      ],
      "metadata": {
        "id": "ktLBz3rvNVgc"
      },
      "execution_count": null,
      "outputs": []
    },
    {
      "cell_type": "code",
      "source": [
        "filename = \"/content/drive/MyDrive/subwayfee.csv\"\n",
        "import csv\n",
        "f = open(filename, 'r',encoding='UTF8')\n",
        "data = csv.reader(f,delimiter=',')\n",
        "next(data) \n",
        "rate=0\n",
        "max=0\n",
        "for row in data:\n",
        "  for i in range(4,8):\n",
        "    row[i]=int(row[i].replace(',',''))\n",
        "  if row[6] !=0:\n",
        "    rate = row[4]/row[6]\n",
        "  if rate  > max:\n",
        "    max = rate\n",
        "print(max)\n",
        "f.close()"
      ],
      "metadata": {
        "colab": {
          "base_uri": "https://localhost:8080/"
        },
        "id": "b16A4fxoO5E0",
        "outputId": "40c1d5ea-1d1c-4f01-f488-e270db293ecd"
      },
      "execution_count": 7,
      "outputs": [
        {
          "output_type": "stream",
          "name": "stdout",
          "text": [
            "25.0\n"
          ]
        }
      ]
    },
    {
      "cell_type": "code",
      "source": [
        "filename = \"/content/drive/MyDrive/subwayfee.csv\"\n",
        "import csv\n",
        "f = open(filename, 'r',encoding='UTF8')\n",
        "data = csv.reader(f,delimiter=',')\n",
        "next(data) \n",
        "rate=0\n",
        "max=0\n",
        "for row in data:\n",
        "  for i in range(4,8):\n",
        "    row[i]=int(row[i].replace(',',''))\n",
        "  if row[6] ==0:\n",
        "    print(row)\n",
        "f.close()"
      ],
      "metadata": {
        "colab": {
          "base_uri": "https://localhost:8080/"
        },
        "id": "nSxuvhX2T_NU",
        "outputId": "675df72a-907b-4ba0-d186-32a38db42b44"
      },
      "execution_count": 9,
      "outputs": [
        {
          "output_type": "stream",
          "name": "stdout",
          "text": [
            "['2023-05', '경원선', '1022', '창동', 15, 0, 0, 0, '2023-06-03 10:09:52']\n",
            "['2023-05', '일산선', '1949', '지축', 12, 0, 0, 0, '2023-06-03 10:09:52']\n",
            "['2023-05', '경의선', '1295', '김포공항', 1, 0, 0, 0, '2023-06-03 10:09:52']\n",
            "['2023-05', '7호선', '2756', '신중동', 3, 0, 0, 0, '2023-06-03 10:09:52']\n",
            "['2023-05', '7호선', '2759', '삼산체육관', 1, 0, 0, 0, '2023-06-03 10:09:52']\n"
          ]
        }
      ]
    },
    {
      "cell_type": "code",
      "source": [
        "filename = \"/content/drive/MyDrive/subwayfee.csv\"\n",
        "import csv\n",
        "f = open(filename, 'r',encoding='UTF8')\n",
        "data = csv.reader(f,delimiter=',')\n",
        "next(data) \n",
        "rate=0\n",
        "max=0\n",
        "for row in data:\n",
        "  for i in range(4,8):\n",
        "    row[i]=int(row[i].replace(',',''))\n",
        "  if row[6] !=0:\n",
        "    rate = row[4]/row[6]\n",
        "  if rate  > max:\n",
        "    max = rate\n",
        "    print(row,round(max,2))\n",
        "f.close()"
      ],
      "metadata": {
        "colab": {
          "base_uri": "https://localhost:8080/"
        },
        "id": "dLRja-uAULhz",
        "outputId": "8383407b-17fb-476f-f2a2-1390a97adbc3"
      },
      "execution_count": 12,
      "outputs": [
        {
          "output_type": "stream",
          "name": "stdout",
          "text": [
            "['2023-05', '1호선', '0150', '서울역', 1383395, 1317062, 221340, 211295, '2023-06-03 10:09:52'] 6.25\n",
            "['2023-05', '1호선', '0151', '시청', 672017, 683164, 93371, 92606, '2023-06-03 10:09:52'] 7.2\n",
            "['2023-05', '2호선', '0201', '시청', 671046, 633834, 60018, 54991, '2023-06-03 10:09:52'] 11.18\n",
            "['2023-05', '2호선', '0202', '을지로입구', 1240802, 1268374, 103975, 96307, '2023-06-03 10:09:52'] 11.93\n",
            "['2023-05', '2호선', '0209', '한양대', 376138, 426614, 15364, 16240, '2023-06-03 10:09:52'] 24.48\n",
            "['2023-05', '분당선', '1031', '복정', 25, 0, 1, 0, '2023-06-03 10:09:52'] 25.0\n"
          ]
        }
      ]
    },
    {
      "cell_type": "code",
      "source": [
        "filename = \"/content/drive/MyDrive/subwayfee.csv\"\n",
        "import csv\n",
        "f = open(filename, 'r',encoding='UTF8')\n",
        "data = csv.reader(f,delimiter=',')\n",
        "next(data) \n",
        "rate=0\n",
        "max=0\n",
        "for row in data:\n",
        "  for i in range(4,8):\n",
        "    row[i]=int(row[i].replace(',',''))\n",
        "  if row[6] !=0:\n",
        "    rate = row[4]/(row[6]+row[4])\n",
        "  if rate  > max:\n",
        "    max = rate\n",
        "    print(row,round(max,2))\n",
        "f.close()"
      ],
      "metadata": {
        "colab": {
          "base_uri": "https://localhost:8080/"
        },
        "id": "G8xGrQiKVFOS",
        "outputId": "a432851c-8142-449a-fc88-95cdc7c796cb"
      },
      "execution_count": 13,
      "outputs": [
        {
          "output_type": "stream",
          "name": "stdout",
          "text": [
            "['2023-05', '1호선', '0150', '서울역', 1383395, 1317062, 221340, 211295, '2023-06-03 10:09:52'] 0.86\n",
            "['2023-05', '1호선', '0151', '시청', 672017, 683164, 93371, 92606, '2023-06-03 10:09:52'] 0.88\n",
            "['2023-05', '2호선', '0201', '시청', 671046, 633834, 60018, 54991, '2023-06-03 10:09:52'] 0.92\n",
            "['2023-05', '2호선', '0202', '을지로입구', 1240802, 1268374, 103975, 96307, '2023-06-03 10:09:52'] 0.92\n",
            "['2023-05', '2호선', '0209', '한양대', 376138, 426614, 15364, 16240, '2023-06-03 10:09:52'] 0.96\n",
            "['2023-05', '분당선', '1031', '복정', 25, 0, 1, 0, '2023-06-03 10:09:52'] 0.96\n"
          ]
        }
      ]
    },
    {
      "cell_type": "code",
      "source": [
        "filename = \"/content/drive/MyDrive/subwayfee.csv\"\n",
        "import csv\n",
        "f = open(filename, 'r',encoding='UTF8')\n",
        "data = csv.reader(f,delimiter=',')\n",
        "next(data) \n",
        "rate=0\n",
        "max=0\n",
        "for row in data:\n",
        "  for i in range(4,8):\n",
        "    row[i]=int(row[i].replace(',',''))\n",
        "  if row[6] !=0 and (row[6]+row[4])>100000:\n",
        "    rate = row[4]/(row[6]+row[4])\n",
        "    if rate  > 0.93:\n",
        "      max = rate\n",
        "      print(row,round(rate,2))\n",
        "f.close()"
      ],
      "metadata": {
        "colab": {
          "base_uri": "https://localhost:8080/"
        },
        "id": "zkwXp_NaWCud",
        "outputId": "95ba2665-cee9-4a9b-ba3b-87893d7b9332"
      },
      "execution_count": 17,
      "outputs": [
        {
          "output_type": "stream",
          "name": "stdout",
          "text": [
            "['2023-05', '2호선', '0209', '한양대', 376138, 426614, 15364, 16240, '2023-06-03 10:09:52'] 0.96\n",
            "['2023-05', '2호선', '0222', '강남', 2117612, 2063949, 158849, 139697, '2023-06-03 10:09:52'] 0.93\n",
            "['2023-05', '2호선', '0239', '홍대입구', 1993284, 2145437, 101797, 98680, '2023-06-03 10:09:52'] 0.95\n",
            "['2023-05', '경부선', '1001', '서울역', 278170, 81185, 17839, 3712, '2023-06-03 10:09:52'] 0.94\n",
            "['2023-05', '6호선', '2624', '상수', 300498, 346652, 22500, 22931, '2023-06-03 10:09:52'] 0.93\n",
            "['2023-05', '6호선', '2632', '한강진', 286500, 343880, 20004, 19936, '2023-06-03 10:09:52'] 0.93\n",
            "['2023-05', '9호선', '4115', '여의도', 724037, 705386, 51720, 47643, '2023-06-03 10:09:52'] 0.93\n",
            "['2023-05', '9호선', '4125', '신논현', 850323, 833494, 55248, 53903, '2023-06-03 10:09:52'] 0.94\n",
            "['2023-05', '공항철도 1호선', '4203', '홍대입구', 406664, 397471, 20275, 18783, '2023-06-03 10:09:52'] 0.95\n",
            "['2023-05', '공항철도 1호선', '4206', '마곡나루(서울식물원)', 271045, 262910, 17937, 18488, '2023-06-03 10:09:52'] 0.94\n"
          ]
        }
      ]
    },
    {
      "cell_type": "code",
      "source": [
        "filename = \"/content/drive/MyDrive/subwayfee.csv\"\n",
        "import csv\n",
        "f = open(filename, 'r',encoding='UTF8')\n",
        "data = csv.reader(f,delimiter=',')\n",
        "next(data) \n",
        "rate=0\n",
        "max=0\n",
        "num = \"\"\n",
        "num1=0\n",
        "for row in data:\n",
        "  for i in range(4,8):\n",
        "    row[i]=int(row[i].replace(',',''))\n",
        "  if row[6] !=0 and (row[6]+row[4])>100000:\n",
        "    rate = row[4]/(row[6]+row[4])\n",
        "    if rate > max:\n",
        "      max = rate\n",
        "      num = row[3]+'  '+row[1]\n",
        "      num1 = rate\n",
        "print(num,round(num1*100,2),'%')\n",
        "f.close()"
      ],
      "metadata": {
        "colab": {
          "base_uri": "https://localhost:8080/"
        },
        "id": "BO70s0XTXT0P",
        "outputId": "a13d8d89-5f32-4ffd-b77c-c801ccc9a00b"
      },
      "execution_count": 40,
      "outputs": [
        {
          "output_type": "stream",
          "name": "stdout",
          "text": [
            "한양대  2호선 96.08 %\n"
          ]
        }
      ]
    },
    {
      "cell_type": "code",
      "source": [
        "filename = \"/content/drive/MyDrive/subwayfee.csv\"\n",
        "import csv\n",
        "f = open(filename, 'r',encoding='UTF8')\n",
        "data = csv.reader(f,delimiter=',')\n",
        "next(data) \n",
        "\n",
        "max=[0,0,0,0]\n",
        "max_station=['']*4\n",
        "label = ['유임승차','유임하차','무임승차','무임하차']\n",
        "for row in data:\n",
        "  for i in range(4,8):\n",
        "    row[i]=int(row[i].replace(',',''))\n",
        "    if row[i] > max[i-4]:\n",
        "      max[i-4] = row[i]\n",
        "      max_station[i-4] = row[3]+' '+row[1]\n",
        "for i in range(4):\n",
        "  print(label[i],max_station[i],max[i],'명')\n",
        "f.close()"
      ],
      "metadata": {
        "colab": {
          "base_uri": "https://localhost:8080/"
        },
        "id": "GEe4n5gHbKF1",
        "outputId": "44a70054-48fa-4113-d630-91fa01901b89"
      },
      "execution_count": 45,
      "outputs": [
        {
          "output_type": "stream",
          "name": "stdout",
          "text": [
            "유임승차 강남 2호선 2117612\n",
            "유임하차 홍대입구 2호선 2145437\n",
            "무임승차 종로3가 1호선 318832\n",
            "무임하차 제기동 1호선 302727\n"
          ]
        }
      ]
    }
  ]
}