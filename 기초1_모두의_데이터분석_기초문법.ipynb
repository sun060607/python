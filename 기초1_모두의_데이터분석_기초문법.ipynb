{
  "nbformat": 4,
  "nbformat_minor": 0,
  "metadata": {
    "colab": {
      "provenance": []
    },
    "kernelspec": {
      "name": "python3",
      "display_name": "Python 3"
    },
    "language_info": {
      "name": "python"
    }
  },
  "cells": [
    {
      "cell_type": "markdown",
      "source": [
        "#기초 문법\n",
        "입력, 출력, 연산자. for 반복문, if 조건문, 리스트트"
      ],
      "metadata": {
        "id": "bnH8pb5LeIfG"
      }
    },
    {
      "cell_type": "code",
      "execution_count": null,
      "metadata": {
        "id": "QeZIHE74d5lE"
      },
      "outputs": [],
      "source": [
        "#출력 : print() 함수로 출력하기\n",
        "print(20*2)\n",
        "print(\"Hello world\")\n",
        "print('hell0','world')\n",
        "print('hell0'+'world')\n"
      ]
    },
    {
      "cell_type": "code",
      "source": [
        "#변수\n",
        "a = 'hello'\n",
        "print(type(a))\n",
        "print(type('hello'))\n",
        "print(type(2))\n",
        "print(type(True))\n"
      ],
      "metadata": {
        "id": "BY9gbuWde0zv"
      },
      "execution_count": null,
      "outputs": []
    },
    {
      "cell_type": "code",
      "source": [
        "#입력 :input() 함수로 문자열 값  입력받기\n",
        "name = input()\n",
        "print(name+\"님! 안녕하세요\")\n",
        "print(name,\"님! 안녕하세요\")\n",
        "print(f\"{name}님! 안녕하세요\")\n",
        "txt = '{}님! {}하세요'\n",
        "print(txt.format(name,'안녕'))"
      ],
      "metadata": {
        "id": "5OAFSdGtfdTp"
      },
      "execution_count": null,
      "outputs": []
    },
    {
      "cell_type": "code",
      "source": [
        "#입력 : 숫자 입력 경우\n",
        "age  = input()\n",
        "print(type(age))\n",
        "#print(10-age)"
      ],
      "metadata": {
        "id": "gE80-fITgd9z"
      },
      "execution_count": null,
      "outputs": []
    },
    {
      "cell_type": "code",
      "source": [
        "#입력 : 숫자 입력 경우 - 해결책\n",
        "age  = int(input())\n",
        "print(10-age)"
      ],
      "metadata": {
        "id": "k2euIwcHg_NM"
      },
      "execution_count": null,
      "outputs": []
    },
    {
      "cell_type": "code",
      "source": [
        "# 종합\n",
        "name  = input('이름을 입력해 주세요 ')\n",
        "age = int(input('나이를 입력해 주세요 '))\n",
        "print(f'안녕하세요 {name} 님! 저는 처음에 {str(age-4)}살인 줄 알았어요!')"
      ],
      "metadata": {
        "colab": {
          "base_uri": "https://localhost:8080/"
        },
        "id": "ALZNKJ3FhOwt",
        "outputId": "39439b38-e6e8-40d3-8369-95ad2387aeed"
      },
      "execution_count": null,
      "outputs": [
        {
          "output_type": "stream",
          "name": "stdout",
          "text": [
            "이름을 입력해 주세요 박민성\n",
            "나이를 입력해 주세요 71\n",
            "안녕하세요 박민성 님! 저는 처음에 67살인 줄 알았어요!\n"
          ]
        }
      ]
    },
    {
      "cell_type": "markdown",
      "source": [
        "#2. 연산자 사용하기\n",
        "+, _, *, /"
      ],
      "metadata": {
        "id": "h6BcSwq4iGfe"
      }
    },
    {
      "cell_type": "code",
      "source": [
        "#산술 연산자\n",
        "print(10**2)#100\n",
        "print(10*2)#20\n",
        "print(10%2)#0\n",
        "print(5/2)#2.5\n",
        "print(5//2)#2"
      ],
      "metadata": {
        "id": "rBWOIFyKiRY7"
      },
      "execution_count": null,
      "outputs": []
    },
    {
      "cell_type": "code",
      "source": [
        "#비교 연산자 (참:True 거짓:False)\n",
        "print(10>=2)#true\n",
        "print(10<=2)#false\n",
        "print(10==2)#false\n",
        "print(10!=2)#true\n",
        "print(10%2==1)#false"
      ],
      "metadata": {
        "id": "mSEgo0faiyG-"
      },
      "execution_count": null,
      "outputs": []
    },
    {
      "cell_type": "code",
      "source": [
        "#논리 연산자\n",
        "#and(둘 다 참일 때 True), or(둘 중에 하나만 참일 때 True), not(반전) 연산자\n",
        "\n",
        "#and 연산자\n",
        "print(1 == 1 and 2 != 1)   #True\n",
        "print(10%2 !=0 and 1+1>0)  #False\n",
        "print()                    #\n",
        "#or 연산자\n",
        "print(10<5 or 10==5)       #False\n",
        "print(10%2 !=0 or 1+1>0)   #True\n",
        "print()                    #\n",
        "#not 연산자\n",
        "print(not 10>5)            #False\n",
        "print(not 10==5)           #True\n",
        "print(not 0)               #True\n",
        "print(not 10)              #False"
      ],
      "metadata": {
        "id": "WtXHwekmjUOo"
      },
      "execution_count": null,
      "outputs": []
    },
    {
      "cell_type": "code",
      "source": [
        "import random\n",
        "\n",
        "dice = random.randint(1,6)\n",
        "print(dice)"
      ],
      "metadata": {
        "colab": {
          "base_uri": "https://localhost:8080/"
        },
        "id": "OKHOCJ-kqWae",
        "outputId": "396fe2cd-0c24-45ae-9878-0fc8258fe09a"
      },
      "execution_count": null,
      "outputs": [
        {
          "output_type": "stream",
          "name": "stdout",
          "text": [
            "1\n"
          ]
        }
      ]
    },
    {
      "cell_type": "code",
      "source": [
        "#for 반복문\n",
        "name = '소마고'\n",
        "for i in name:\n",
        "  print(i)\n",
        "print()\n",
        "for i in name:\n",
        "  print(i,end = '')"
      ],
      "metadata": {
        "colab": {
          "base_uri": "https://localhost:8080/"
        },
        "id": "QChpybfEqwWV",
        "outputId": "3bad0ffa-7762-474a-ab4b-1d6716f64b2e"
      },
      "execution_count": null,
      "outputs": [
        {
          "output_type": "stream",
          "name": "stdout",
          "text": [
            "소\n",
            "마\n",
            "고\n",
            "소마고"
          ]
        }
      ]
    },
    {
      "cell_type": "code",
      "source": [
        "names  = ['정밀','폴리','산설','메카','전기']\n",
        "\n",
        "for i in names:\n",
        "  print(i,end = ' ')"
      ],
      "metadata": {
        "colab": {
          "base_uri": "https://localhost:8080/"
        },
        "id": "Mgu0DkCbrbUN",
        "outputId": "7eb40b19-51f5-4fc2-baee-9edcf261a944"
      },
      "execution_count": null,
      "outputs": [
        {
          "output_type": "stream",
          "name": "stdout",
          "text": [
            "정밀 폴리 산설 메카 전기 "
          ]
        }
      ]
    },
    {
      "cell_type": "code",
      "source": [
        "for i in [0,1,2,3]:\n",
        "  print(i**2)"
      ],
      "metadata": {
        "colab": {
          "base_uri": "https://localhost:8080/"
        },
        "id": "eM_ZNpOdsh02",
        "outputId": "d522a17c-1861-47d8-fcab-9b908cbd221c"
      },
      "execution_count": null,
      "outputs": [
        {
          "output_type": "stream",
          "name": "stdout",
          "text": [
            "0\n",
            "1\n",
            "4\n",
            "9\n"
          ]
        }
      ]
    },
    {
      "cell_type": "code",
      "source": [
        "a = list(range(10))\n",
        "print(a)"
      ],
      "metadata": {
        "colab": {
          "base_uri": "https://localhost:8080/"
        },
        "id": "hmE3bCFvujPb",
        "outputId": "aef5833b-5ef4-4271-a707-4de9ba6519bf"
      },
      "execution_count": 25,
      "outputs": [
        {
          "output_type": "stream",
          "name": "stdout",
          "text": [
            "[0, 1, 2, 3, 4, 5, 6, 7, 8, 9]\n"
          ]
        }
      ]
    },
    {
      "cell_type": "code",
      "source": [
        "if 10>0 and 5%2==1:\n",
        "  print(\"안녕하세요\")\n"
      ],
      "metadata": {
        "id": "zmX6LJ-outss"
      },
      "execution_count": null,
      "outputs": []
    },
    {
      "cell_type": "code",
      "source": [
        "password = int(input('비밀번호 4자리를 입력하세요: '))\n",
        "if password == 1234:\n",
        "  print(\"정답입니다\")\n",
        "#히히 먼저 해버렸지롱\n",
        "\n",
        "elif password == 1991:\n",
        "  print(\"ypa\")\n",
        "else:\n",
        "  print(\"틀렸습니다\")"
      ],
      "metadata": {
        "colab": {
          "base_uri": "https://localhost:8080/"
        },
        "id": "ejhso3bhvlyN",
        "outputId": "6184c8e1-1ed7-4ed6-f254-0e41c90b23a2"
      },
      "execution_count": 34,
      "outputs": [
        {
          "output_type": "stream",
          "name": "stdout",
          "text": [
            "비밀번호 4자리를 입력하세요: 1991\n",
            "ypa\n"
          ]
        }
      ]
    },
    {
      "cell_type": "code",
      "source": [
        "for i in range(1,10000):\n",
        "  if i==2020:\n",
        "    print(\"비밀 번호가 일치 합니다\")\n",
        "    print(f'비밀번호는 {i} 입니다')\n",
        "    print('비밀번호는',str(i),'입니다')"
      ],
      "metadata": {
        "colab": {
          "base_uri": "https://localhost:8080/"
        },
        "id": "M1c_6PU_wM4j",
        "outputId": "347baa0f-eb75-41f3-e5a4-ca9331312c22"
      },
      "execution_count": 33,
      "outputs": [
        {
          "output_type": "stream",
          "name": "stdout",
          "text": [
            "비밀 번호가 일치 합니다\n",
            "비밀번호는 2020 입니다\n",
            "비밀번호는  2020  입니다\n"
          ]
        }
      ]
    },
    {
      "cell_type": "code",
      "source": [
        "#심리 게임\n",
        "print(\"[소름 끼치도록 놀라운 심리테스트]\")\n",
        "menu = input(\"당신이 좋아하는 음식을 입력해주세요\")\n",
        "if menu=='짜장면':\n",
        "  print(\"당신은 짜장면을 좋아하는 사람입니다\")\n",
        "elif menu=='아이스크림':\n",
        "  print(\"당신은 아이스크림림을 좋아하는 사람입니다\")\n",
        "elif menu=='사탕':\n",
        "   print(\"당신은 사탕을 좋아하는 사람입니다\")\n",
        "else:\n",
        "  print(\"당신은 짜장면, 아이스크림, 사탕을 좋아하지 않는 사람입니다다\")"
      ],
      "metadata": {
        "colab": {
          "base_uri": "https://localhost:8080/"
        },
        "id": "OUSAmtl0xrYf",
        "outputId": "3075db7c-b019-40c4-f434-5e8d9796a0fa"
      },
      "execution_count": 35,
      "outputs": [
        {
          "output_type": "stream",
          "name": "stdout",
          "text": [
            "[소름 끼치도록 놀라운 심리테스트]\n",
            "당신이 좋아하는 음식을 입력해주세요짜장면\n",
            "당신은 짜장면을 좋아하는 사람입니다\n"
          ]
        }
      ]
    },
    {
      "cell_type": "code",
      "source": [
        "num = int(input('1~10의 수를 입력하세요'))\n",
        "if num>=9 and num<11:\n",
        "  print(\"A\")\n",
        "elif num>=6 and num<9:\n",
        "  print(\"B\")\n",
        "elif num>=4and num<6:\n",
        "  print(\"C\")\n",
        "elif num>=1 and num<4:\n",
        "  print(\"D\")\n",
        "else:\n",
        "  print('다시 입력 희망')"
      ],
      "metadata": {
        "colab": {
          "base_uri": "https://localhost:8080/"
        },
        "id": "M3dhWMfUzyNq",
        "outputId": "b4542019-94bb-4994-de8f-140deb3f10f8"
      },
      "execution_count": 38,
      "outputs": [
        {
          "output_type": "stream",
          "name": "stdout",
          "text": [
            "1~10의 수를 입력하세요9\n",
            "A\n"
          ]
        }
      ]
    }
  ]
}